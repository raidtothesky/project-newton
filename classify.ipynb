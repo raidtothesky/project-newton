{
  "nbformat": 4,
  "nbformat_minor": 0,
  "metadata": {
    "colab": {
      "provenance": []
    },
    "kernelspec": {
      "name": "python3",
      "display_name": "Python 3"
    },
    "language_info": {
      "name": "python"
    }
  },
  "cells": [
    {
      "cell_type": "code",
      "execution_count": 1,
      "metadata": {
        "id": "OAe0abiJvHs_",
        "colab": {
          "base_uri": "https://localhost:8080/"
        },
        "outputId": "7a664971-06d6-4e4f-b393-10df25e0a845"
      },
      "outputs": [
        {
          "output_type": "stream",
          "name": "stdout",
          "text": [
            "Collecting ultralytics==8.0.134\n",
            "  Downloading ultralytics-8.0.134-py3-none-any.whl (629 kB)\n",
            "\u001b[2K     \u001b[90m━━━━━━━━━━━━━━━━━━━━━━━━━━━━━━━━━━━━━━━\u001b[0m \u001b[32m629.1/629.1 kB\u001b[0m \u001b[31m4.9 MB/s\u001b[0m eta \u001b[36m0:00:00\u001b[0m\n",
            "\u001b[?25hRequirement already satisfied: matplotlib>=3.2.2 in /usr/local/lib/python3.10/dist-packages (from ultralytics==8.0.134) (3.7.1)\n",
            "Requirement already satisfied: opencv-python>=4.6.0 in /usr/local/lib/python3.10/dist-packages (from ultralytics==8.0.134) (4.7.0.72)\n",
            "Requirement already satisfied: Pillow>=7.1.2 in /usr/local/lib/python3.10/dist-packages (from ultralytics==8.0.134) (9.4.0)\n",
            "Requirement already satisfied: PyYAML>=5.3.1 in /usr/local/lib/python3.10/dist-packages (from ultralytics==8.0.134) (6.0.1)\n",
            "Requirement already satisfied: requests>=2.23.0 in /usr/local/lib/python3.10/dist-packages (from ultralytics==8.0.134) (2.27.1)\n",
            "Requirement already satisfied: scipy>=1.4.1 in /usr/local/lib/python3.10/dist-packages (from ultralytics==8.0.134) (1.10.1)\n",
            "Requirement already satisfied: torch>=1.7.0 in /usr/local/lib/python3.10/dist-packages (from ultralytics==8.0.134) (2.0.1+cu118)\n",
            "Requirement already satisfied: torchvision>=0.8.1 in /usr/local/lib/python3.10/dist-packages (from ultralytics==8.0.134) (0.15.2+cu118)\n",
            "Requirement already satisfied: tqdm>=4.64.0 in /usr/local/lib/python3.10/dist-packages (from ultralytics==8.0.134) (4.65.0)\n",
            "Requirement already satisfied: pandas>=1.1.4 in /usr/local/lib/python3.10/dist-packages (from ultralytics==8.0.134) (1.5.3)\n",
            "Requirement already satisfied: seaborn>=0.11.0 in /usr/local/lib/python3.10/dist-packages (from ultralytics==8.0.134) (0.12.2)\n",
            "Requirement already satisfied: psutil in /usr/local/lib/python3.10/dist-packages (from ultralytics==8.0.134) (5.9.5)\n",
            "Requirement already satisfied: contourpy>=1.0.1 in /usr/local/lib/python3.10/dist-packages (from matplotlib>=3.2.2->ultralytics==8.0.134) (1.1.0)\n",
            "Requirement already satisfied: cycler>=0.10 in /usr/local/lib/python3.10/dist-packages (from matplotlib>=3.2.2->ultralytics==8.0.134) (0.11.0)\n",
            "Requirement already satisfied: fonttools>=4.22.0 in /usr/local/lib/python3.10/dist-packages (from matplotlib>=3.2.2->ultralytics==8.0.134) (4.41.1)\n",
            "Requirement already satisfied: kiwisolver>=1.0.1 in /usr/local/lib/python3.10/dist-packages (from matplotlib>=3.2.2->ultralytics==8.0.134) (1.4.4)\n",
            "Requirement already satisfied: numpy>=1.20 in /usr/local/lib/python3.10/dist-packages (from matplotlib>=3.2.2->ultralytics==8.0.134) (1.22.4)\n",
            "Requirement already satisfied: packaging>=20.0 in /usr/local/lib/python3.10/dist-packages (from matplotlib>=3.2.2->ultralytics==8.0.134) (23.1)\n",
            "Requirement already satisfied: pyparsing>=2.3.1 in /usr/local/lib/python3.10/dist-packages (from matplotlib>=3.2.2->ultralytics==8.0.134) (3.1.0)\n",
            "Requirement already satisfied: python-dateutil>=2.7 in /usr/local/lib/python3.10/dist-packages (from matplotlib>=3.2.2->ultralytics==8.0.134) (2.8.2)\n",
            "Requirement already satisfied: pytz>=2020.1 in /usr/local/lib/python3.10/dist-packages (from pandas>=1.1.4->ultralytics==8.0.134) (2022.7.1)\n",
            "Requirement already satisfied: urllib3<1.27,>=1.21.1 in /usr/local/lib/python3.10/dist-packages (from requests>=2.23.0->ultralytics==8.0.134) (1.26.16)\n",
            "Requirement already satisfied: certifi>=2017.4.17 in /usr/local/lib/python3.10/dist-packages (from requests>=2.23.0->ultralytics==8.0.134) (2023.7.22)\n",
            "Requirement already satisfied: charset-normalizer~=2.0.0 in /usr/local/lib/python3.10/dist-packages (from requests>=2.23.0->ultralytics==8.0.134) (2.0.12)\n",
            "Requirement already satisfied: idna<4,>=2.5 in /usr/local/lib/python3.10/dist-packages (from requests>=2.23.0->ultralytics==8.0.134) (3.4)\n",
            "Requirement already satisfied: filelock in /usr/local/lib/python3.10/dist-packages (from torch>=1.7.0->ultralytics==8.0.134) (3.12.2)\n",
            "Requirement already satisfied: typing-extensions in /usr/local/lib/python3.10/dist-packages (from torch>=1.7.0->ultralytics==8.0.134) (4.7.1)\n",
            "Requirement already satisfied: sympy in /usr/local/lib/python3.10/dist-packages (from torch>=1.7.0->ultralytics==8.0.134) (1.11.1)\n",
            "Requirement already satisfied: networkx in /usr/local/lib/python3.10/dist-packages (from torch>=1.7.0->ultralytics==8.0.134) (3.1)\n",
            "Requirement already satisfied: jinja2 in /usr/local/lib/python3.10/dist-packages (from torch>=1.7.0->ultralytics==8.0.134) (3.1.2)\n",
            "Requirement already satisfied: triton==2.0.0 in /usr/local/lib/python3.10/dist-packages (from torch>=1.7.0->ultralytics==8.0.134) (2.0.0)\n",
            "Requirement already satisfied: cmake in /usr/local/lib/python3.10/dist-packages (from triton==2.0.0->torch>=1.7.0->ultralytics==8.0.134) (3.25.2)\n",
            "Requirement already satisfied: lit in /usr/local/lib/python3.10/dist-packages (from triton==2.0.0->torch>=1.7.0->ultralytics==8.0.134) (16.0.6)\n",
            "Requirement already satisfied: six>=1.5 in /usr/local/lib/python3.10/dist-packages (from python-dateutil>=2.7->matplotlib>=3.2.2->ultralytics==8.0.134) (1.16.0)\n",
            "Requirement already satisfied: MarkupSafe>=2.0 in /usr/local/lib/python3.10/dist-packages (from jinja2->torch>=1.7.0->ultralytics==8.0.134) (2.1.3)\n",
            "Requirement already satisfied: mpmath>=0.19 in /usr/local/lib/python3.10/dist-packages (from sympy->torch>=1.7.0->ultralytics==8.0.134) (1.3.0)\n",
            "Installing collected packages: ultralytics\n",
            "Successfully installed ultralytics-8.0.134\n"
          ]
        }
      ],
      "source": [
        "!pip install ultralytics==8.0.134"
      ]
    },
    {
      "cell_type": "code",
      "source": [
        "!wget https://github.com/raidtothesky/project-newton/raw/main/models/high-bias.pt"
      ],
      "metadata": {
        "id": "0giSZ-YtvOKg",
        "colab": {
          "base_uri": "https://localhost:8080/"
        },
        "outputId": "435936ba-9f77-45c9-9b73-4d963308b7e8"
      },
      "execution_count": 2,
      "outputs": [
        {
          "output_type": "stream",
          "name": "stdout",
          "text": [
            "--2023-08-03 01:03:43--  https://github.com/raidtothesky/project-newton/raw/main/models/high-bias.pt\n",
            "Resolving github.com (github.com)... 20.27.177.113\n",
            "Connecting to github.com (github.com)|20.27.177.113|:443... connected.\n",
            "HTTP request sent, awaiting response... 302 Found\n",
            "Location: https://raw.githubusercontent.com/raidtothesky/project-newton/main/models/high-bias.pt [following]\n",
            "--2023-08-03 01:03:44--  https://raw.githubusercontent.com/raidtothesky/project-newton/main/models/high-bias.pt\n",
            "Resolving raw.githubusercontent.com (raw.githubusercontent.com)... 185.199.108.133, 185.199.109.133, 185.199.110.133, ...\n",
            "Connecting to raw.githubusercontent.com (raw.githubusercontent.com)|185.199.108.133|:443... connected.\n",
            "HTTP request sent, awaiting response... 200 OK\n",
            "Length: 6241262 (6.0M) [application/octet-stream]\n",
            "Saving to: ‘high-bias.pt’\n",
            "\n",
            "high-bias.pt        100%[===================>]   5.95M  --.-KB/s    in 0.1s    \n",
            "\n",
            "2023-08-03 01:03:44 (54.7 MB/s) - ‘high-bias.pt’ saved [6241262/6241262]\n",
            "\n"
          ]
        }
      ]
    },
    {
      "cell_type": "code",
      "source": [
        "from ultralytics import YOLO\n",
        "import cv2\n",
        "import numpy as np\n",
        "import matplotlib.pyplot as plt\n",
        "import os\n",
        "import shutil\n",
        "\n",
        "def crop_and_classify(model=\"high-bias.pt\",\n",
        "                      savepath=\"crop\",\n",
        "                      imagepath=\"https://storage.googleapis.com/648010c1-f244-4641-98f2-73ff6c1b4e99/ai_assignment_20230726_classify.jpeg\",\n",
        "                      plot=True):\n",
        "  yolo_model = YOLO(\"high-bias.pt\")\n",
        "  results = yolo_model(imagepath)\n",
        "\n",
        "  if os.path.exists(savepath):\n",
        "    shutil.rmtree(savepath)\n",
        "\n",
        "  results[0].save_crop(savepath)\n",
        "\n",
        "  index = 1\n",
        "  color_idx = {\n",
        "      \"red\": 1,\n",
        "      \"green\": 1,\n",
        "      \"yellow\": 1,\n",
        "  }\n",
        "\n",
        "  for imgpath in [savepath + '/apple/' + path for path in os.listdir(savepath + '/apple') if path.endswith('.jpg')]:\n",
        "      title, borimage = showcolorborders(imgpath)\n",
        "\n",
        "      for c in color_idx:\n",
        "        if not os.path.exists(savepath + '/apple/' + title + '/'):\n",
        "          os.makedirs(savepath + '/apple/' + title + '/')\n",
        "\n",
        "      cv2.imwrite(savepath + '/apple/' + title + '/' + title + '_' + str(color_idx[title]) + '.jpg', borimage)\n",
        "\n",
        "      if plot:\n",
        "        plt.figure(figsize = (20, 10))\n",
        "        plt.subplot(5, 6, index)\n",
        "        plt.title(title)\n",
        "        plt.imshow(borimage[:,:,::-1])\n",
        "\n",
        "      color_idx[title] = color_idx[title]+1\n",
        "      index = index + 1\n",
        "      # plt.show()\n",
        "\n",
        "# the function below is largely repurposed from https://thinkinfi.com/color-detection-using-opencv-and-python/\n",
        "# the key is to get a HSV range for each colors that are accurate enough for our test data\n",
        "# because in this scope of work we don't have test data, it seems to work fine, but further test is necessary with more images.\n",
        "#\n",
        "# If I had the suitable data, I would fine-tune a classifier (e.g. based on VisionTransformer or CSPDarknet) to classify\n",
        "# the colors of the apples. But I didn't find any. If I had more time, I would generate synthetic data\n",
        "# of apples with three different colors with Stable Diffusion, then use them to train the classifier.\n",
        "def showcolorborders(path):\n",
        "    img = cv2.imread(path)\n",
        "    input_image_cpy = img.copy()\n",
        "\n",
        "    hsv = cv2.cvtColor(img, cv2.COLOR_BGR2HSV)\n",
        "\n",
        "    # HSV ranges for red green and yellow\n",
        "    lower_red = np.array([0, 50, 50])\n",
        "    upper_red = np.array([7, 255, 255])\n",
        "\n",
        "    lower_green = np.array([30, 20, 50])\n",
        "    upper_green = np.array([90, 255, 255])\n",
        "\n",
        "    lower_yellow = np.array([17, 20, 50])\n",
        "    upper_yellow = np.array([29, 255, 255])\n",
        "\n",
        "    # generating contour per color\n",
        "    mask_red = cv2.inRange(hsv, lower_red, upper_red)\n",
        "    mask_green = cv2.inRange(hsv, lower_green, upper_green)\n",
        "    mask_yellow = cv2.inRange(hsv, lower_yellow, upper_yellow)\n",
        "    contours_red, _ = cv2.findContours(mask_red, cv2.RETR_TREE, cv2.CHAIN_APPROX_SIMPLE)\n",
        "    contours_green, _ = cv2.findContours(mask_green, cv2.RETR_TREE, cv2.CHAIN_APPROX_SIMPLE)\n",
        "    contours_yellow, _ = cv2.findContours(mask_yellow, cv2.RETR_TREE, cv2.CHAIN_APPROX_SIMPLE)\n",
        "\n",
        "    # check which color has the largest continuous contour area\n",
        "    max_area = 0\n",
        "    max_color = \"red\"\n",
        "    for cnt in contours_red:\n",
        "        contour_area = cv2.contourArea(cnt)\n",
        "        if contour_area > max_area:\n",
        "            max_area = contour_area\n",
        "            max_color = \"red\"\n",
        "\n",
        "    for cnt in contours_green:\n",
        "        contour_area = cv2.contourArea(cnt)\n",
        "        if contour_area > max_area:\n",
        "            max_area = contour_area\n",
        "            max_color = \"green\"\n",
        "\n",
        "    for cnt in contours_yellow:\n",
        "        contour_area = cv2.contourArea(cnt)\n",
        "        if contour_area > max_area:\n",
        "            max_area = contour_area\n",
        "            max_color = \"yellow\"\n",
        "    return max_color, img"
      ],
      "metadata": {
        "id": "4KSuFhesvS53"
      },
      "execution_count": 3,
      "outputs": []
    },
    {
      "cell_type": "code",
      "source": [
        "# you can specify the folder you want to save the classified images in. If not, a folder 'crop' will be created by default.\n",
        "# if you are having problem with the PLT plotting, you can disable it by setting plot=False\n",
        "crop_and_classify(plot=False)"
      ],
      "metadata": {
        "id": "vaweNjrX0aEb",
        "colab": {
          "base_uri": "https://localhost:8080/"
        },
        "outputId": "455c2571-e9f5-4815-d4ed-d84d6863a06f"
      },
      "execution_count": 5,
      "outputs": [
        {
          "output_type": "stream",
          "name": "stderr",
          "text": [
            "\n",
            "Found https://storage.googleapis.com/648010c1-f244-4641-98f2-73ff6c1b4e99/ai_assignment_20230726_classify.jpeg locally at ai_assignment_20230726_classify.jpeg\n",
            "image 1/1 /content/ai_assignment_20230726_classify.jpeg: 512x640 28 apples, 361.3ms\n",
            "Speed: 5.4ms preprocess, 361.3ms inference, 2.0ms postprocess per image at shape (1, 3, 512, 640)\n"
          ]
        }
      ]
    }
  ]
}